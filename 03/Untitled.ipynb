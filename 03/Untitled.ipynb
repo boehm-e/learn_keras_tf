{
 "cells": [
  {
   "cell_type": "code",
   "execution_count": 22,
   "metadata": {},
   "outputs": [],
   "source": [
    "import tensorflow as tf\n",
    "from keras.models import Sequential\n",
    "from keras.layers import Dense, Dropout, Activation, Flatten, Conv2D, MaxPooling2D\n",
    "import pickle\n"
   ]
  },
  {
   "cell_type": "code",
   "execution_count": 109,
   "metadata": {
    "scrolled": false
   },
   "outputs": [
    {
     "name": "stdout",
     "output_type": "stream",
     "text": [
      "Train on 22451 samples, validate on 2495 samples\n",
      "Epoch 1/3\n",
      "22451/22451 [==============================] - 72s 3ms/step - loss: 8.0652 - acc: 0.4996 - val_loss: 8.0235 - val_acc: 0.5022\n",
      "Epoch 2/3\n",
      "22451/22451 [==============================] - 75s 3ms/step - loss: 8.0652 - acc: 0.4996 - val_loss: 8.0235 - val_acc: 0.5022\n",
      "Epoch 3/3\n",
      "22451/22451 [==============================] - 79s 3ms/step - loss: 8.0652 - acc: 0.4996 - val_loss: 8.0235 - val_acc: 0.5022\n"
     ]
    },
    {
     "data": {
      "text/plain": [
       "<keras.callbacks.History at 0x7f5afa30a9e8>"
      ]
     },
     "execution_count": 109,
     "metadata": {},
     "output_type": "execute_result"
    }
   ],
   "source": [
    "X = pickle.load(open(\"../02/X.pickle\", \"rb\"))\n",
    "y = pickle.load(open(\"../02/y.pickle\", \"rb\"))\n",
    "\n",
    "# resize images to 0-1\n",
    "X = X/255.0\n",
    "# print(X[0].shape)\n",
    "# > (50, 50, 1) | 50x50 grayscale images\n",
    "\n",
    "model = Sequential()\n",
    "\n",
    "model.add( Conv2D(64, (3,3), input_shape = X[0].shape) )\n",
    "model.add(Activation(\"relu\"))\n",
    "model.add(MaxPooling2D(pool_size=(2,2)))\n",
    "\n",
    "model.add( Conv2D(64, (3,3)) )\n",
    "model.add(Activation(\"relu\"))\n",
    "model.add(MaxPooling2D(pool_size=(2,2)))\n",
    "\n",
    "model.add(Flatten())\n",
    "model.add(Dense(64))\n",
    "model.add(Activation(\"sigmoid\"))\n",
    "\n",
    "model.add(Dense(1))\n",
    "model.add(Activation(\"relu\"))\n",
    "\n",
    "model.compile(\n",
    "    loss=\"binary_crossentropy\",\n",
    "    optimizer=\"adam\",\n",
    "    metrics=[\"accuracy\"])\n",
    "\n",
    "model.fit(X, y, batch_size=32, epochs=3, validation_split=0.1)"
   ]
  },
  {
   "cell_type": "code",
   "execution_count": 107,
   "metadata": {},
   "outputs": [
    {
     "name": "stdout",
     "output_type": "stream",
     "text": [
      "[[0.2544825]]\n"
     ]
    }
   ],
   "source": [
    "# print(X[:1])\n",
    "index = 6\n",
    "pred = model.predict(np.array([X[index]]))\n",
    "print(pred)\n"
   ]
  }
 ],
 "metadata": {
  "kernelspec": {
   "display_name": "Python 3",
   "language": "python",
   "name": "python3"
  },
  "language_info": {
   "codemirror_mode": {
    "name": "ipython",
    "version": 3
   },
   "file_extension": ".py",
   "mimetype": "text/x-python",
   "name": "python",
   "nbconvert_exporter": "python",
   "pygments_lexer": "ipython3",
   "version": "3.6.3"
  }
 },
 "nbformat": 4,
 "nbformat_minor": 2
}
